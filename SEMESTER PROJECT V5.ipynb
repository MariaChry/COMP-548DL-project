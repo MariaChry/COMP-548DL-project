{
 "cells": [
  {
   "cell_type": "markdown",
   "id": "01fc41ea",
   "metadata": {},
   "source": [
    "# University of Nicosia\n",
    "# COMP-548DL\n",
    "## Big Data Management and Processing\n",
    "## Semester Project\n",
    "## Project Title: E-commerce Customer Behavior Analysis\n",
    "## Maria Chrysanthou"
   ]
  },
  {
   "cell_type": "markdown",
   "id": "ee5ee074",
   "metadata": {},
   "source": [
    "COMP-548DL course will focus on Big Data Management and Processing where  we will use analyze from E-commerce Customer Behavior. With more and more people shopping online, it's become super important for businesses to get a grip on what their customers are up to. In this project, we're going to play detective with an e-commerce dataset, uncovering who's buying what, spotting trends, and getting some cool insights on customer behavior."
   ]
  },
  {
   "cell_type": "markdown",
   "id": "30c1dd9f",
   "metadata": {},
   "source": [
    "The E-commerce Dataset has been taken from Kaggle. The dataset in a global scale shows who's buying, what they're buying, and how they're buying it."
   ]
  },
  {
   "cell_type": "markdown",
   "id": "58143884",
   "metadata": {},
   "source": [
    "The specific dataset has been used due to its Big Data Challenges:  Volume, Variety, and Velocity."
   ]
  },
  {
   "cell_type": "markdown",
   "id": "61677471",
   "metadata": {},
   "source": [
    "Setup Enviroment Variable"
   ]
  },
  {
   "cell_type": "code",
   "execution_count": 1,
   "id": "3117dcf8",
   "metadata": {},
   "outputs": [
    {
     "name": "stdout",
     "output_type": "stream",
     "text": [
      "env: GOOGLE_APPLICATION_CREDENTIALS=C:\\Users\\maria\\Downloads\\comp548-m-chrysanthou-e7d5f3bef30f.json\n"
     ]
    }
   ],
   "source": [
    " %env GOOGLE_APPLICATION_CREDENTIALS=C:\\Users\\maria\\Downloads\\comp548-m-chrysanthou-e7d5f3bef30f.json"
   ]
  },
  {
   "cell_type": "code",
   "execution_count": 2,
   "id": "e1aadbf2",
   "metadata": {},
   "outputs": [
    {
     "name": "stdout",
     "output_type": "stream",
     "text": [
      "Requirement already satisfied: google-cloud-firestore in c:\\users\\maria\\anaconda3\\comp542dl\\lib\\site-packages (2.14.0)\n",
      "Requirement already satisfied: proto-plus<2.0.0dev,>=1.22.0 in c:\\users\\maria\\anaconda3\\comp542dl\\lib\\site-packages (from google-cloud-firestore) (1.22.3)\n",
      "Requirement already satisfied: google-api-core[grpc]!=2.0.*,!=2.1.*,!=2.10.*,!=2.2.*,!=2.3.*,!=2.4.*,!=2.5.*,!=2.6.*,!=2.7.*,!=2.8.*,!=2.9.*,<3.0.0dev,>=1.34.0 in c:\\users\\maria\\anaconda3\\comp542dl\\lib\\site-packages (from google-cloud-firestore) (2.12.0)\n",
      "Requirement already satisfied: protobuf!=3.20.0,!=3.20.1,!=4.21.0,!=4.21.1,!=4.21.2,!=4.21.3,!=4.21.4,!=4.21.5,<5.0.0dev,>=3.19.5 in c:\\users\\maria\\anaconda3\\comp542dl\\lib\\site-packages (from google-cloud-firestore) (4.24.4)\n",
      "Requirement already satisfied: google-cloud-core<3.0.0dev,>=1.4.1 in c:\\users\\maria\\anaconda3\\comp542dl\\lib\\site-packages (from google-cloud-firestore) (2.3.3)\n",
      "Requirement already satisfied: requests<3.0.0.dev0,>=2.18.0 in c:\\users\\maria\\anaconda3\\comp542dl\\lib\\site-packages (from google-api-core[grpc]!=2.0.*,!=2.1.*,!=2.10.*,!=2.2.*,!=2.3.*,!=2.4.*,!=2.5.*,!=2.6.*,!=2.7.*,!=2.8.*,!=2.9.*,<3.0.0dev,>=1.34.0->google-cloud-firestore) (2.25.1)\n",
      "Requirement already satisfied: google-auth<3.0.dev0,>=2.14.1 in c:\\users\\maria\\anaconda3\\comp542dl\\lib\\site-packages (from google-api-core[grpc]!=2.0.*,!=2.1.*,!=2.10.*,!=2.2.*,!=2.3.*,!=2.4.*,!=2.5.*,!=2.6.*,!=2.7.*,!=2.8.*,!=2.9.*,<3.0.0dev,>=1.34.0->google-cloud-firestore) (2.16.1)\n",
      "Requirement already satisfied: googleapis-common-protos<2.0.dev0,>=1.56.2 in c:\\users\\maria\\anaconda3\\comp542dl\\lib\\site-packages (from google-api-core[grpc]!=2.0.*,!=2.1.*,!=2.10.*,!=2.2.*,!=2.3.*,!=2.4.*,!=2.5.*,!=2.6.*,!=2.7.*,!=2.8.*,!=2.9.*,<3.0.0dev,>=1.34.0->google-cloud-firestore) (1.58.0)\n",
      "Requirement already satisfied: grpcio-status<2.0.dev0,>=1.33.2 in c:\\users\\maria\\anaconda3\\comp542dl\\lib\\site-packages (from google-api-core[grpc]!=2.0.*,!=2.1.*,!=2.10.*,!=2.2.*,!=2.3.*,!=2.4.*,!=2.5.*,!=2.6.*,!=2.7.*,!=2.8.*,!=2.9.*,<3.0.0dev,>=1.34.0->google-cloud-firestore) (1.59.0)\n",
      "Requirement already satisfied: grpcio<2.0dev,>=1.33.2 in c:\\users\\maria\\anaconda3\\comp542dl\\lib\\site-packages (from google-api-core[grpc]!=2.0.*,!=2.1.*,!=2.10.*,!=2.2.*,!=2.3.*,!=2.4.*,!=2.5.*,!=2.6.*,!=2.7.*,!=2.8.*,!=2.9.*,<3.0.0dev,>=1.34.0->google-cloud-firestore) (1.59.0)\n",
      "Requirement already satisfied: cachetools<6.0,>=2.0.0 in c:\\users\\maria\\anaconda3\\comp542dl\\lib\\site-packages (from google-auth<3.0.dev0,>=2.14.1->google-api-core[grpc]!=2.0.*,!=2.1.*,!=2.10.*,!=2.2.*,!=2.3.*,!=2.4.*,!=2.5.*,!=2.6.*,!=2.7.*,!=2.8.*,!=2.9.*,<3.0.0dev,>=1.34.0->google-cloud-firestore) (5.3.0)\n",
      "Requirement already satisfied: rsa<5,>=3.1.4 in c:\\users\\maria\\anaconda3\\comp542dl\\lib\\site-packages (from google-auth<3.0.dev0,>=2.14.1->google-api-core[grpc]!=2.0.*,!=2.1.*,!=2.10.*,!=2.2.*,!=2.3.*,!=2.4.*,!=2.5.*,!=2.6.*,!=2.7.*,!=2.8.*,!=2.9.*,<3.0.0dev,>=1.34.0->google-cloud-firestore) (4.9)\n",
      "Requirement already satisfied: six>=1.9.0 in c:\\users\\maria\\anaconda3\\comp542dl\\lib\\site-packages (from google-auth<3.0.dev0,>=2.14.1->google-api-core[grpc]!=2.0.*,!=2.1.*,!=2.10.*,!=2.2.*,!=2.3.*,!=2.4.*,!=2.5.*,!=2.6.*,!=2.7.*,!=2.8.*,!=2.9.*,<3.0.0dev,>=1.34.0->google-cloud-firestore) (1.15.0)\n",
      "Requirement already satisfied: pyasn1-modules>=0.2.1 in c:\\users\\maria\\anaconda3\\comp542dl\\lib\\site-packages (from google-auth<3.0.dev0,>=2.14.1->google-api-core[grpc]!=2.0.*,!=2.1.*,!=2.10.*,!=2.2.*,!=2.3.*,!=2.4.*,!=2.5.*,!=2.6.*,!=2.7.*,!=2.8.*,!=2.9.*,<3.0.0dev,>=1.34.0->google-cloud-firestore) (0.2.8)\n",
      "Requirement already satisfied: pyasn1<0.5.0,>=0.4.6 in c:\\users\\maria\\anaconda3\\comp542dl\\lib\\site-packages (from pyasn1-modules>=0.2.1->google-auth<3.0.dev0,>=2.14.1->google-api-core[grpc]!=2.0.*,!=2.1.*,!=2.10.*,!=2.2.*,!=2.3.*,!=2.4.*,!=2.5.*,!=2.6.*,!=2.7.*,!=2.8.*,!=2.9.*,<3.0.0dev,>=1.34.0->google-cloud-firestore) (0.4.8)\n",
      "Requirement already satisfied: urllib3<1.27,>=1.21.1 in c:\\users\\maria\\anaconda3\\comp542dl\\lib\\site-packages (from requests<3.0.0.dev0,>=2.18.0->google-api-core[grpc]!=2.0.*,!=2.1.*,!=2.10.*,!=2.2.*,!=2.3.*,!=2.4.*,!=2.5.*,!=2.6.*,!=2.7.*,!=2.8.*,!=2.9.*,<3.0.0dev,>=1.34.0->google-cloud-firestore) (1.26.4)\n",
      "Requirement already satisfied: idna<3,>=2.5 in c:\\users\\maria\\anaconda3\\comp542dl\\lib\\site-packages (from requests<3.0.0.dev0,>=2.18.0->google-api-core[grpc]!=2.0.*,!=2.1.*,!=2.10.*,!=2.2.*,!=2.3.*,!=2.4.*,!=2.5.*,!=2.6.*,!=2.7.*,!=2.8.*,!=2.9.*,<3.0.0dev,>=1.34.0->google-cloud-firestore) (2.10)\n",
      "Requirement already satisfied: certifi>=2017.4.17 in c:\\users\\maria\\anaconda3\\comp542dl\\lib\\site-packages (from requests<3.0.0.dev0,>=2.18.0->google-api-core[grpc]!=2.0.*,!=2.1.*,!=2.10.*,!=2.2.*,!=2.3.*,!=2.4.*,!=2.5.*,!=2.6.*,!=2.7.*,!=2.8.*,!=2.9.*,<3.0.0dev,>=1.34.0->google-cloud-firestore) (2022.12.7)\n",
      "Requirement already satisfied: chardet<5,>=3.0.2 in c:\\users\\maria\\anaconda3\\comp542dl\\lib\\site-packages (from requests<3.0.0.dev0,>=2.18.0->google-api-core[grpc]!=2.0.*,!=2.1.*,!=2.10.*,!=2.2.*,!=2.3.*,!=2.4.*,!=2.5.*,!=2.6.*,!=2.7.*,!=2.8.*,!=2.9.*,<3.0.0dev,>=1.34.0->google-cloud-firestore) (4.0.0)\n"
     ]
    }
   ],
   "source": [
    "import sys\n",
    "!{sys.executable} -m pip install --upgrade google-cloud-firestore"
   ]
  },
  {
   "cell_type": "markdown",
   "id": "bdae4b47",
   "metadata": {},
   "source": [
    "### Load Dataset"
   ]
  },
  {
   "cell_type": "code",
   "execution_count": 3,
   "id": "deb7b372",
   "metadata": {},
   "outputs": [
    {
     "data": {
      "text/html": [
       "<div>\n",
       "<style scoped>\n",
       "    .dataframe tbody tr th:only-of-type {\n",
       "        vertical-align: middle;\n",
       "    }\n",
       "\n",
       "    .dataframe tbody tr th {\n",
       "        vertical-align: top;\n",
       "    }\n",
       "\n",
       "    .dataframe thead th {\n",
       "        text-align: right;\n",
       "    }\n",
       "</style>\n",
       "<table border=\"1\" class=\"dataframe\">\n",
       "  <thead>\n",
       "    <tr style=\"text-align: right;\">\n",
       "      <th></th>\n",
       "      <th>InvoiceNo</th>\n",
       "      <th>StockCode</th>\n",
       "      <th>Description</th>\n",
       "      <th>Quantity</th>\n",
       "      <th>InvoiceDate</th>\n",
       "      <th>UnitPrice</th>\n",
       "      <th>CustomerID</th>\n",
       "      <th>Country</th>\n",
       "    </tr>\n",
       "  </thead>\n",
       "  <tbody>\n",
       "    <tr>\n",
       "      <th>0</th>\n",
       "      <td>536365</td>\n",
       "      <td>85123A</td>\n",
       "      <td>WHITE HANGING HEART T-LIGHT HOLDER</td>\n",
       "      <td>6</td>\n",
       "      <td>12/1/2010 8:26</td>\n",
       "      <td>2.55</td>\n",
       "      <td>17850.0</td>\n",
       "      <td>United Kingdom</td>\n",
       "    </tr>\n",
       "    <tr>\n",
       "      <th>1</th>\n",
       "      <td>536365</td>\n",
       "      <td>71053</td>\n",
       "      <td>WHITE METAL LANTERN</td>\n",
       "      <td>6</td>\n",
       "      <td>12/1/2010 8:26</td>\n",
       "      <td>3.39</td>\n",
       "      <td>17850.0</td>\n",
       "      <td>United Kingdom</td>\n",
       "    </tr>\n",
       "    <tr>\n",
       "      <th>2</th>\n",
       "      <td>536365</td>\n",
       "      <td>84406B</td>\n",
       "      <td>CREAM CUPID HEARTS COAT HANGER</td>\n",
       "      <td>8</td>\n",
       "      <td>12/1/2010 8:26</td>\n",
       "      <td>2.75</td>\n",
       "      <td>17850.0</td>\n",
       "      <td>United Kingdom</td>\n",
       "    </tr>\n",
       "    <tr>\n",
       "      <th>3</th>\n",
       "      <td>536365</td>\n",
       "      <td>84029G</td>\n",
       "      <td>KNITTED UNION FLAG HOT WATER BOTTLE</td>\n",
       "      <td>6</td>\n",
       "      <td>12/1/2010 8:26</td>\n",
       "      <td>3.39</td>\n",
       "      <td>17850.0</td>\n",
       "      <td>United Kingdom</td>\n",
       "    </tr>\n",
       "    <tr>\n",
       "      <th>4</th>\n",
       "      <td>536365</td>\n",
       "      <td>84029E</td>\n",
       "      <td>RED WOOLLY HOTTIE WHITE HEART.</td>\n",
       "      <td>6</td>\n",
       "      <td>12/1/2010 8:26</td>\n",
       "      <td>3.39</td>\n",
       "      <td>17850.0</td>\n",
       "      <td>United Kingdom</td>\n",
       "    </tr>\n",
       "  </tbody>\n",
       "</table>\n",
       "</div>"
      ],
      "text/plain": [
       "  InvoiceNo StockCode                          Description  Quantity  \\\n",
       "0    536365    85123A   WHITE HANGING HEART T-LIGHT HOLDER         6   \n",
       "1    536365     71053                  WHITE METAL LANTERN         6   \n",
       "2    536365    84406B       CREAM CUPID HEARTS COAT HANGER         8   \n",
       "3    536365    84029G  KNITTED UNION FLAG HOT WATER BOTTLE         6   \n",
       "4    536365    84029E       RED WOOLLY HOTTIE WHITE HEART.         6   \n",
       "\n",
       "      InvoiceDate  UnitPrice  CustomerID         Country  \n",
       "0  12/1/2010 8:26       2.55     17850.0  United Kingdom  \n",
       "1  12/1/2010 8:26       3.39     17850.0  United Kingdom  \n",
       "2  12/1/2010 8:26       2.75     17850.0  United Kingdom  \n",
       "3  12/1/2010 8:26       3.39     17850.0  United Kingdom  \n",
       "4  12/1/2010 8:26       3.39     17850.0  United Kingdom  "
      ]
     },
     "execution_count": 3,
     "metadata": {},
     "output_type": "execute_result"
    }
   ],
   "source": [
    "import pandas as pd\n",
    "import matplotlib.pyplot as plt\n",
    "# Load the data into a Pandas DataFrame to inspect it\n",
    "data_df = pd.read_csv('data.csv')\n",
    "\n",
    "# Display the first few rows \n",
    "data_df.head()"
   ]
  },
  {
   "cell_type": "markdown",
   "id": "ae57f6ee",
   "metadata": {},
   "source": [
    "### Upload the dataset to Firestore"
   ]
  },
  {
   "cell_type": "markdown",
   "id": "175494ed",
   "metadata": {},
   "source": [
    "Hereby, we handle large-scale data ingestion into Firestore by splitting the process into manageable batches. This is to avoid limits on write operations and ensuring efficient data transfer."
   ]
  },
  {
   "cell_type": "code",
   "execution_count": 4,
   "id": "32cb7d14",
   "metadata": {},
   "outputs": [],
   "source": [
    "from google.cloud import firestore\n",
    "\n",
    "# establish a connection with db\n",
    "db = firestore.Client()\n",
    "\n",
    "# Function to convert a row to a Firestore document\n",
    "def row_to_document(row):\n",
    "    # Convert NaN to None for Firestore compatibility\n",
    "    return row.where(pd.notnull(row), None).to_dict()\n",
    "\n",
    "# Batch Ingestion\n",
    "## Firestore has limits on the number of writes we can do in a single operation.\n",
    "## We use batch processing, to handle the above.\n",
    "batch = db.batch()\n",
    "collection_name = 'sales_data'\n",
    "for index, row in data_df.iterrows():\n",
    "    doc_ref = db.collection(collection_name).document()  # Auto-generate document ID\n",
    "    batch.set(doc_ref, row_to_document(row))\n",
    "\n",
    "    # Commit in batches of 500 to avoid exceeding limits\n",
    "    if (index + 1) % 500 == 0:\n",
    "        batch.commit()\n",
    "        batch = db.batch()"
   ]
  },
  {
   "cell_type": "markdown",
   "id": "18d0a78f",
   "metadata": {},
   "source": [
    "### Data Cleaning and Preprocessing\n",
    "In this step, we identify missing values in the dataset and make decisions on how we handle these values."
   ]
  },
  {
   "cell_type": "code",
   "execution_count": 5,
   "id": "288b56f1",
   "metadata": {},
   "outputs": [
    {
     "data": {
      "text/html": [
       "<div>\n",
       "<style scoped>\n",
       "    .dataframe tbody tr th:only-of-type {\n",
       "        vertical-align: middle;\n",
       "    }\n",
       "\n",
       "    .dataframe tbody tr th {\n",
       "        vertical-align: top;\n",
       "    }\n",
       "\n",
       "    .dataframe thead th {\n",
       "        text-align: right;\n",
       "    }\n",
       "</style>\n",
       "<table border=\"1\" class=\"dataframe\">\n",
       "  <thead>\n",
       "    <tr style=\"text-align: right;\">\n",
       "      <th></th>\n",
       "      <th>Missing Values</th>\n",
       "      <th>Percentage</th>\n",
       "    </tr>\n",
       "  </thead>\n",
       "  <tbody>\n",
       "    <tr>\n",
       "      <th>InvoiceNo</th>\n",
       "      <td>0</td>\n",
       "      <td>0.000000</td>\n",
       "    </tr>\n",
       "    <tr>\n",
       "      <th>StockCode</th>\n",
       "      <td>0</td>\n",
       "      <td>0.000000</td>\n",
       "    </tr>\n",
       "    <tr>\n",
       "      <th>Description</th>\n",
       "      <td>1454</td>\n",
       "      <td>0.268311</td>\n",
       "    </tr>\n",
       "    <tr>\n",
       "      <th>Quantity</th>\n",
       "      <td>0</td>\n",
       "      <td>0.000000</td>\n",
       "    </tr>\n",
       "    <tr>\n",
       "      <th>InvoiceDate</th>\n",
       "      <td>0</td>\n",
       "      <td>0.000000</td>\n",
       "    </tr>\n",
       "    <tr>\n",
       "      <th>UnitPrice</th>\n",
       "      <td>0</td>\n",
       "      <td>0.000000</td>\n",
       "    </tr>\n",
       "    <tr>\n",
       "      <th>CustomerID</th>\n",
       "      <td>135080</td>\n",
       "      <td>24.926694</td>\n",
       "    </tr>\n",
       "    <tr>\n",
       "      <th>Country</th>\n",
       "      <td>0</td>\n",
       "      <td>0.000000</td>\n",
       "    </tr>\n",
       "  </tbody>\n",
       "</table>\n",
       "</div>"
      ],
      "text/plain": [
       "             Missing Values  Percentage\n",
       "InvoiceNo                 0    0.000000\n",
       "StockCode                 0    0.000000\n",
       "Description            1454    0.268311\n",
       "Quantity                  0    0.000000\n",
       "InvoiceDate               0    0.000000\n",
       "UnitPrice                 0    0.000000\n",
       "CustomerID           135080   24.926694\n",
       "Country                   0    0.000000"
      ]
     },
     "execution_count": 5,
     "metadata": {},
     "output_type": "execute_result"
    }
   ],
   "source": [
    "# Identifying missing values in the dataset\n",
    "missing_values = data_df.isnull().sum()\n",
    "\n",
    "# Percentage of missing values for each column\n",
    "missing_percentage = (missing_values / len(data_df)) * 100\n",
    "\n",
    "# Overview of the missing data in our dataset\n",
    "missing_summary = pd.DataFrame({'Missing Values': missing_values, 'Percentage': missing_percentage})\n",
    "missing_summary"
   ]
  },
  {
   "cell_type": "code",
   "execution_count": 6,
   "id": "69cb1afd",
   "metadata": {},
   "outputs": [
    {
     "name": "stderr",
     "output_type": "stream",
     "text": [
      "C:\\Users\\maria\\anaconda3\\COMP542DL\\lib\\site-packages\\pandas\\core\\series.py:4463: SettingWithCopyWarning: \n",
      "A value is trying to be set on a copy of a slice from a DataFrame\n",
      "\n",
      "See the caveats in the documentation: https://pandas.pydata.org/pandas-docs/stable/user_guide/indexing.html#returning-a-view-versus-a-copy\n",
      "  return super().fillna(\n"
     ]
    },
    {
     "data": {
      "text/html": [
       "<div>\n",
       "<style scoped>\n",
       "    .dataframe tbody tr th:only-of-type {\n",
       "        vertical-align: middle;\n",
       "    }\n",
       "\n",
       "    .dataframe tbody tr th {\n",
       "        vertical-align: top;\n",
       "    }\n",
       "\n",
       "    .dataframe thead th {\n",
       "        text-align: right;\n",
       "    }\n",
       "</style>\n",
       "<table border=\"1\" class=\"dataframe\">\n",
       "  <thead>\n",
       "    <tr style=\"text-align: right;\">\n",
       "      <th></th>\n",
       "      <th>Missing Values After Cleaning</th>\n",
       "    </tr>\n",
       "  </thead>\n",
       "  <tbody>\n",
       "    <tr>\n",
       "      <th>InvoiceNo</th>\n",
       "      <td>0</td>\n",
       "    </tr>\n",
       "    <tr>\n",
       "      <th>StockCode</th>\n",
       "      <td>0</td>\n",
       "    </tr>\n",
       "    <tr>\n",
       "      <th>Description</th>\n",
       "      <td>0</td>\n",
       "    </tr>\n",
       "    <tr>\n",
       "      <th>Quantity</th>\n",
       "      <td>0</td>\n",
       "    </tr>\n",
       "    <tr>\n",
       "      <th>InvoiceDate</th>\n",
       "      <td>0</td>\n",
       "    </tr>\n",
       "    <tr>\n",
       "      <th>UnitPrice</th>\n",
       "      <td>0</td>\n",
       "    </tr>\n",
       "    <tr>\n",
       "      <th>CustomerID</th>\n",
       "      <td>0</td>\n",
       "    </tr>\n",
       "    <tr>\n",
       "      <th>Country</th>\n",
       "      <td>0</td>\n",
       "    </tr>\n",
       "  </tbody>\n",
       "</table>\n",
       "</div>"
      ],
      "text/plain": [
       "             Missing Values After Cleaning\n",
       "InvoiceNo                                0\n",
       "StockCode                                0\n",
       "Description                              0\n",
       "Quantity                                 0\n",
       "InvoiceDate                              0\n",
       "UnitPrice                                0\n",
       "CustomerID                               0\n",
       "Country                                  0"
      ]
     },
     "execution_count": 6,
     "metadata": {},
     "output_type": "execute_result"
    }
   ],
   "source": [
    "# Handling missing values\n",
    "\n",
    "# Removing records with missing 'Description'\n",
    "data_cleaned = data_df.dropna(subset=['Description'])\n",
    "\n",
    "# Replacing missing 'CustomerID' values with a placeholder (-1)\n",
    "data_cleaned['CustomerID'].fillna(-1, inplace=True)\n",
    "\n",
    "# Check the dataset after handling missing values\n",
    "missing_values_after = data_cleaned.isnull().sum()\n",
    "missing_summary_after = pd.DataFrame({'Missing Values After Cleaning': missing_values_after})\n",
    "missing_summary_after"
   ]
  },
  {
   "cell_type": "markdown",
   "id": "378f6ea0",
   "metadata": {},
   "source": [
    "### Perform label encoding on categorical columns in a Dataframe"
   ]
  },
  {
   "cell_type": "markdown",
   "id": "dd61546c",
   "metadata": {},
   "source": [
    "Here, we preprocess categorical data and represent them with numeric values. The reason for this procedure is to make data suitable for use in algorithms, which require numerical input."
   ]
  },
  {
   "cell_type": "code",
   "execution_count": 7,
   "id": "4a80ea64",
   "metadata": {},
   "outputs": [
    {
     "data": {
      "text/html": [
       "<div>\n",
       "<style scoped>\n",
       "    .dataframe tbody tr th:only-of-type {\n",
       "        vertical-align: middle;\n",
       "    }\n",
       "\n",
       "    .dataframe tbody tr th {\n",
       "        vertical-align: top;\n",
       "    }\n",
       "\n",
       "    .dataframe thead th {\n",
       "        text-align: right;\n",
       "    }\n",
       "</style>\n",
       "<table border=\"1\" class=\"dataframe\">\n",
       "  <thead>\n",
       "    <tr style=\"text-align: right;\">\n",
       "      <th></th>\n",
       "      <th>InvoiceNo</th>\n",
       "      <th>StockCode</th>\n",
       "      <th>Description</th>\n",
       "      <th>Quantity</th>\n",
       "      <th>InvoiceDate</th>\n",
       "      <th>UnitPrice</th>\n",
       "      <th>CustomerID</th>\n",
       "      <th>Country</th>\n",
       "    </tr>\n",
       "  </thead>\n",
       "  <tbody>\n",
       "    <tr>\n",
       "      <th>0</th>\n",
       "      <td>0</td>\n",
       "      <td>3438</td>\n",
       "      <td>3918</td>\n",
       "      <td>6</td>\n",
       "      <td>12/1/2010 8:26</td>\n",
       "      <td>2.55</td>\n",
       "      <td>17850.0</td>\n",
       "      <td>36</td>\n",
       "    </tr>\n",
       "    <tr>\n",
       "      <th>1</th>\n",
       "      <td>0</td>\n",
       "      <td>2739</td>\n",
       "      <td>3926</td>\n",
       "      <td>6</td>\n",
       "      <td>12/1/2010 8:26</td>\n",
       "      <td>3.39</td>\n",
       "      <td>17850.0</td>\n",
       "      <td>36</td>\n",
       "    </tr>\n",
       "    <tr>\n",
       "      <th>2</th>\n",
       "      <td>0</td>\n",
       "      <td>2975</td>\n",
       "      <td>913</td>\n",
       "      <td>8</td>\n",
       "      <td>12/1/2010 8:26</td>\n",
       "      <td>2.75</td>\n",
       "      <td>17850.0</td>\n",
       "      <td>36</td>\n",
       "    </tr>\n",
       "    <tr>\n",
       "      <th>3</th>\n",
       "      <td>0</td>\n",
       "      <td>2919</td>\n",
       "      <td>1910</td>\n",
       "      <td>6</td>\n",
       "      <td>12/1/2010 8:26</td>\n",
       "      <td>3.39</td>\n",
       "      <td>17850.0</td>\n",
       "      <td>36</td>\n",
       "    </tr>\n",
       "    <tr>\n",
       "      <th>4</th>\n",
       "      <td>0</td>\n",
       "      <td>2918</td>\n",
       "      <td>2911</td>\n",
       "      <td>6</td>\n",
       "      <td>12/1/2010 8:26</td>\n",
       "      <td>3.39</td>\n",
       "      <td>17850.0</td>\n",
       "      <td>36</td>\n",
       "    </tr>\n",
       "  </tbody>\n",
       "</table>\n",
       "</div>"
      ],
      "text/plain": [
       "   InvoiceNo  StockCode  Description  Quantity     InvoiceDate  UnitPrice  \\\n",
       "0          0       3438         3918         6  12/1/2010 8:26       2.55   \n",
       "1          0       2739         3926         6  12/1/2010 8:26       3.39   \n",
       "2          0       2975          913         8  12/1/2010 8:26       2.75   \n",
       "3          0       2919         1910         6  12/1/2010 8:26       3.39   \n",
       "4          0       2918         2911         6  12/1/2010 8:26       3.39   \n",
       "\n",
       "   CustomerID  Country  \n",
       "0     17850.0       36  \n",
       "1     17850.0       36  \n",
       "2     17850.0       36  \n",
       "3     17850.0       36  \n",
       "4     17850.0       36  "
      ]
     },
     "execution_count": 7,
     "metadata": {},
     "output_type": "execute_result"
    }
   ],
   "source": [
    "from sklearn.preprocessing import LabelEncoder\n",
    "\n",
    "# Creating a copy of the data for encoding\n",
    "data_encoded = data_cleaned.copy()\n",
    "\n",
    "# Initializing LabelEncoder\n",
    "# This encoder assigns a unique integer to each unique category within a column.\n",
    "label_encoder = LabelEncoder()\n",
    "\n",
    "# List of columns to be label encoded\n",
    "categorical_columns = ['InvoiceNo', 'StockCode', 'Description', 'Country']\n",
    "\n",
    "# Applying label encoding to each categorical column\n",
    "for column in categorical_columns:\n",
    "    data_encoded[column] = label_encoder.fit_transform(data_encoded[column])\n",
    "\n",
    "# Display the first few rows of the encoded DataFrame\n",
    "data_encoded.head()"
   ]
  },
  {
   "cell_type": "markdown",
   "id": "fe289ea4",
   "metadata": {},
   "source": [
    "We transform DataFrame into a format that can be uploaded to Firestore."
   ]
  },
  {
   "cell_type": "code",
   "execution_count": 8,
   "id": "b25089a8",
   "metadata": {},
   "outputs": [
    {
     "data": {
      "text/plain": [
       "{'InvoiceNo': 0,\n",
       " 'StockCode': 3438,\n",
       " 'Description': 3918,\n",
       " 'Quantity': 6,\n",
       " 'InvoiceDate': '12/1/2010 8:26',\n",
       " 'UnitPrice': 2.55,\n",
       " 'CustomerID': 17850.0,\n",
       " 'Country': 36}"
      ]
     },
     "execution_count": 8,
     "metadata": {},
     "output_type": "execute_result"
    }
   ],
   "source": [
    "# Data Preparation for Firestore\n",
    "# Converting DataFrame to a list of dictionaries\n",
    "# This format is suitable for uploading to Firestore\n",
    "data_for_firestore = data_encoded.to_dict(orient='records')\n",
    "\n",
    "# Display the first record to verify the format\n",
    "data_for_firestore[0] if len(data_for_firestore) > 0 else \"No data available\""
   ]
  },
  {
   "cell_type": "markdown",
   "id": "f4348e89",
   "metadata": {},
   "source": [
    "### Upload data to a Firestore collection in batches"
   ]
  },
  {
   "cell_type": "markdown",
   "id": "9e2d1a50",
   "metadata": {},
   "source": [
    "We upload our data to the Firestore collection, using batches for efficient processing."
   ]
  },
  {
   "cell_type": "code",
   "execution_count": 9,
   "id": "3039d9c0",
   "metadata": {},
   "outputs": [],
   "source": [
    "from google.cloud import firestore\n",
    "\n",
    "# Initialize Firestore client\n",
    "db = firestore.Client()\n",
    "\n",
    "# Function to upload data to Firestore in batches\n",
    "def upload_to_firestore(data, collection_name, batch_size=500):\n",
    "    batch = db.batch()\n",
    "    collection_ref = db.collection(collection_name)\n",
    "\n",
    "    for i, record in enumerate(data):\n",
    "        doc_ref = collection_ref.document()  # Auto-generate document ID\n",
    "        batch.set(doc_ref, record)\n",
    "\n",
    "        # Commit in batches of specified size to avoid exceeding limits\n",
    "        if (i + 1) % batch_size == 0:\n",
    "            batch.commit()\n",
    "            batch = db.batch()\n",
    "\n",
    "    # Commit any remaining documents\n",
    "    batch.commit()\n",
    "\n",
    "# Call the function to start the upload process\n",
    "collection_name = 'sales_data'  # Replace with your collection name\n",
    "upload_to_firestore(data_for_firestore, collection_name)"
   ]
  },
  {
   "cell_type": "markdown",
   "id": "a6c300e5",
   "metadata": {},
   "source": [
    "### Customer Segmentation"
   ]
  },
  {
   "cell_type": "markdown",
   "id": "d23493b9",
   "metadata": {},
   "source": [
    "We begin the process by retrieving sales data from Firestore collection, aggregating it by customer, and then converting the aggregated data into pandas DataFrame."
   ]
  },
  {
   "cell_type": "code",
   "execution_count": 10,
   "id": "faf4d797",
   "metadata": {},
   "outputs": [],
   "source": [
    "## Firestore Query for Customer Segmentation\n",
    "\n",
    "# Query to retrieve sales data grouped by CustomerID\n",
    "# Retrieve up to 100 documents from the collection\n",
    "# Limit the number of documents to prevenet loading huge amount of data\n",
    "sales_data = db.collection('sales_data').limit(100).stream()\n",
    "\n",
    "# Process the data in Python\n",
    "customer_data = {}\n",
    "for doc in sales_data:\n",
    "    record = doc.to_dict() # convert Firestore doc to Python dictionary\n",
    "    customer_id = record['CustomerID']\n",
    "\n",
    "    # Aggregate data for each customer\n",
    "    if customer_id not in customer_data:\n",
    "        customer_data[customer_id] = {\n",
    "            'total_spend': 0,\n",
    "            'total_transactions': 0,\n",
    "        }\n",
    "    \n",
    "    customer_data[customer_id]['total_spend'] += record['UnitPrice'] * record['Quantity']\n",
    "    customer_data[customer_id]['total_transactions'] += 1\n",
    "\n",
    "# Now customer_data contains aggregated data for each customer\n",
    "\n",
    "# Convert the customer_data to a DataFrame\n",
    "import pandas as pd\n",
    "customer_df = pd.DataFrame.from_dict(customer_data, orient='index')"
   ]
  },
  {
   "cell_type": "markdown",
   "id": "91590e62",
   "metadata": {},
   "source": [
    "We preprocess the data for clustering analysis. We normalize the feature values in dataset, in order to be on comparable scale."
   ]
  },
  {
   "cell_type": "code",
   "execution_count": 11,
   "id": "0fd0a100",
   "metadata": {},
   "outputs": [],
   "source": [
    "## Prepocess the Data for Clustering\n",
    "\n",
    "from sklearn.preprocessing import StandardScaler\n",
    "\n",
    "# Normalize the data\n",
    "scaler = StandardScaler()\n",
    "scaled_features = scaler.fit_transform(customer_df)"
   ]
  },
  {
   "cell_type": "markdown",
   "id": "0acf9671",
   "metadata": {},
   "source": [
    "For clustering analysis, we use K-means which adopt distance measurements to determine the similarity between data points. We standardize features to prevent influence on the model from features, which are on larger scales."
   ]
  },
  {
   "cell_type": "code",
   "execution_count": 12,
   "id": "f3c92f82",
   "metadata": {},
   "outputs": [
    {
     "name": "stderr",
     "output_type": "stream",
     "text": [
      "C:\\Users\\maria\\anaconda3\\COMP542DL\\lib\\site-packages\\sklearn\\cluster\\_kmeans.py:870: FutureWarning: The default value of `n_init` will change from 10 to 'auto' in 1.4. Set the value of `n_init` explicitly to suppress the warning\n",
      "  warnings.warn(\n",
      "C:\\Users\\maria\\anaconda3\\COMP542DL\\lib\\site-packages\\sklearn\\cluster\\_kmeans.py:1382: UserWarning: KMeans is known to have a memory leak on Windows with MKL, when there are less chunks than available threads. You can avoid it by setting the environment variable OMP_NUM_THREADS=1.\n",
      "  warnings.warn(\n"
     ]
    }
   ],
   "source": [
    "## Apply Clustering Algorithm\n",
    "\n",
    "from sklearn.cluster import KMeans\n",
    "\n",
    "# Choose the number of clusters (k)\n",
    "k = 3 \n",
    "kmeans = KMeans(n_clusters=k, random_state=0)\n",
    "clusters = kmeans.fit_predict(scaled_features)\n",
    "\n",
    "# Add the cluster information back to the DataFrame\n",
    "customer_df['Cluster'] = clusters\n"
   ]
  },
  {
   "cell_type": "code",
   "execution_count": 13,
   "id": "2a640ac6",
   "metadata": {},
   "outputs": [],
   "source": [
    "## Analyze the Customer Segments\n",
    "\n",
    "# Analyze the mean values of each cluster\n",
    "cluster_analysis = customer_df.groupby('Cluster').mean()"
   ]
  },
  {
   "cell_type": "code",
   "execution_count": 14,
   "id": "1c9ae5f1",
   "metadata": {},
   "outputs": [
    {
     "data": {
      "image/png": "[encoded data removed]",
      "text/plain": [
       "<Figure size 432x288 with 1 Axes>"
      ]
     },
     "metadata": {
      "needs_background": "light"
     },
     "output_type": "display_data"
    }
   ],
   "source": [
    "## Visualization\n",
    "\n",
    "import matplotlib.pyplot as plt\n",
    "import seaborn as sns\n",
    "\n",
    "# Plotting total spend by cluster\n",
    "sns.boxplot(x='Cluster', y='total_spend', data=customer_df)\n",
    "plt.title('Total Spend by Customer Segment')\n",
    "plt.show()"
   ]
  },
  {
   "cell_type": "markdown",
   "id": "8f40a854",
   "metadata": {},
   "source": [
    "Diving into the box plot, we uncover how different customer segments are spending their money. We've got three segments here – 0, 1, and 2. \n",
    "+ **Budget Shoppers (Cluster 0)**: This Cluster's median spend is the lowest, and they keep their purchases tight and consistent. \n",
    "+ **Casual Spenders (Cluster 1)**: Spenders in Clurster 1 are the customers who show more flexibility in their spending. \n",
    "+ **Enigmatic Expenders (Cluster 2)**: Cluster 2 spending pattern isn’t as clear-cut from the plot. "
   ]
  },
  {
   "cell_type": "code",
   "execution_count": 15,
   "id": "940f61a1",
   "metadata": {},
   "outputs": [
    {
     "data": {
      "image/png": "[encoded data removed]",
      "text/plain": [
       "<Figure size 720x432 with 1 Axes>"
      ]
     },
     "metadata": {
      "needs_background": "light"
     },
     "output_type": "display_data"
    }
   ],
   "source": [
    "import pandas as pd\n",
    "import matplotlib.pyplot as plt\n",
    "import seaborn as sns\n",
    "\n",
    "# Counting the number of unique customers in each country\n",
    "country_customer_counts = data_df.groupby('Country')['CustomerID'].nunique()\n",
    "\n",
    "# Sorting and selecting the top 10 countries\n",
    "top_10_countries = country_customer_counts.sort_values(ascending=False).head(10)\n",
    "\n",
    "# Creating the bar plot\n",
    "plt.figure(figsize=(10, 6))\n",
    "sns.barplot(x=top_10_countries.values, y=top_10_countries.index)\n",
    "plt.title('Top 10 Countries by Number of Customers')\n",
    "plt.xlabel('Number of Customers')\n",
    "plt.ylabel('Country')\n",
    "plt.show()"
   ]
  },
  {
   "cell_type": "markdown",
   "id": "e692f955",
   "metadata": {},
   "source": [
    "The insights from these plot are:\n",
    "+ **Dominant UK Market**: The United Kingdom is the dominant market in terms of the customer base.\n",
    "+ **European Customer Base**: Other countries in the list are primarily European, which suggests that the business has a significant presence or focus in Europe.\n",
    "+ **Market Penetration Opportunities**: The noticeable drop in customer numbers from the UK to Germany and others could indicate potential for market penetration or expansion in these other countries. "
   ]
  },
  {
   "cell_type": "code",
   "execution_count": 16,
   "id": "fbe12591",
   "metadata": {},
   "outputs": [
    {
     "data": {
      "image/png": "[encoded data removed]",
      "text/plain": [
       "<Figure size 720x432 with 1 Axes>"
      ]
     },
     "metadata": {
      "needs_background": "light"
     },
     "output_type": "display_data"
    }
   ],
   "source": [
    "df = pd.read_csv('data.csv')\n",
    "\n",
    "# Calculating total purchase amount for each country\n",
    "df['TotalAmount'] = df['Quantity'] * df['UnitPrice']\n",
    "country_purchase = df.groupby('Country')['TotalAmount'].sum().sort_values(ascending=False).head(10)\n",
    "\n",
    "# Visualization of top 10 countries based on purchase history\n",
    "plt.figure(figsize=(10, 6))\n",
    "sns.barplot(x=country_purchase.values, y=country_purchase.index)\n",
    "plt.title('Top 10 Countries by Purchase History')\n",
    "plt.xlabel('Total Purchase Amount')\n",
    "plt.ylabel('Country')\n",
    "plt.show()"
   ]
  },
  {
   "cell_type": "markdown",
   "id": "5b2438af",
   "metadata": {},
   "source": [
    "This chart can provide strategic insights for business growth, marketing, and customer engagement:\n",
    "\n",
    "+ **Market Dominance of the UK** : The United Kingdom stands out with a significantly higher total purchase amount compared to other countries, indicating that it is the primary market for the business. The UK's dominance in sales could be due to a larger customer base, higher spending per customer, or a combination of both.\n",
    "+ **Secondary Markets**: The Netherlands and EIRE (Ireland) follow as the next two countries, suggesting that these regions are important secondary markets for the company. \n",
    "+ **Market Expansion Potential**: The presence of countries like Australia and Sweden in the list, despite their geographical distance from the UK, suggests that the business has international appeal. "
   ]
  },
  {
   "cell_type": "markdown",
   "id": "d666076b",
   "metadata": {},
   "source": [
    "### Browsing behavior"
   ]
  },
  {
   "cell_type": "markdown",
   "id": "51220cfb",
   "metadata": {},
   "source": [
    "The data do not contain explicit data on browsing behavior. In the absence of direct browsing behavior data,we will use the available data to infer browsing behavior. For instance, we could assume that a higher number of unique products purchased or a higher frequency of purchases may indicate more active browsing behavior."
   ]
  },
  {
   "cell_type": "code",
   "execution_count": 17,
   "id": "efcefbb1",
   "metadata": {},
   "outputs": [
    {
     "data": {
      "image/png": "[encoded data removed]",
      "text/plain": [
       "<Figure size 720x432 with 1 Axes>"
      ]
     },
     "metadata": {
      "needs_background": "light"
     },
     "output_type": "display_data"
    }
   ],
   "source": [
    "# Inferring browsing behavior based on the number of unique products purchased per country\n",
    "# This assumes that a higher variety of products purchased might indicate more active browsing behavior\n",
    "\n",
    "# Counting the number of unique products (StockCode) purchased in each country\n",
    "browsing_behavior = df.groupby('Country')['StockCode'].nunique().sort_values(ascending=False).head(10)\n",
    "\n",
    "# Visualization of top 10 countries based on inferred browsing behavior\n",
    "plt.figure(figsize=(10, 6))\n",
    "sns.barplot(x=browsing_behavior.values, y=browsing_behavior.index)\n",
    "plt.title('Top 10 Countries Based on Variety of Products Purchased')\n",
    "plt.xlabel('Number of Unique Products Purchased')\n",
    "plt.ylabel('Country')\n",
    "plt.show()\n"
   ]
  },
  {
   "cell_type": "markdown",
   "id": "145ca9f2",
   "metadata": {},
   "source": [
    "This bar chart illustrates the number of unique products purchased in each country.\n",
    "The United Kingdom is leading by a significant margin, indicating that consumers there have purchased the most diverse range of products among the countries listed. EIRE (Ireland) follows as the second, with Germany, France, and Spain rounding out the top five."
   ]
  },
  {
   "cell_type": "markdown",
   "id": "e7bc9c57",
   "metadata": {},
   "source": [
    "### Exploration of trends over time and seasonal variatons"
   ]
  },
  {
   "cell_type": "code",
   "execution_count": 18,
   "id": "730a9175",
   "metadata": {},
   "outputs": [
    {
     "data": {
      "text/plain": [
       "(InvoiceNo           0\n",
       " StockCode           0\n",
       " Description      1454\n",
       " Quantity            0\n",
       " InvoiceDate         0\n",
       " UnitPrice           0\n",
       " CustomerID     135080\n",
       " Country             0\n",
       " dtype: int64,\n",
       "   InvoiceNo StockCode                          Description  Quantity  \\\n",
       " 0    536365    85123A   WHITE HANGING HEART T-LIGHT HOLDER         6   \n",
       " 1    536365     71053                  WHITE METAL LANTERN         6   \n",
       " 2    536365    84406B       CREAM CUPID HEARTS COAT HANGER         8   \n",
       " 3    536365    84029G  KNITTED UNION FLAG HOT WATER BOTTLE         6   \n",
       " 4    536365    84029E       RED WOOLLY HOTTIE WHITE HEART.         6   \n",
       " \n",
       "           InvoiceDate  UnitPrice  CustomerID         Country  Year  Month  \\\n",
       " 0 2010-12-01 08:26:00       2.55     17850.0  United Kingdom  2010     12   \n",
       " 1 2010-12-01 08:26:00       3.39     17850.0  United Kingdom  2010     12   \n",
       " 2 2010-12-01 08:26:00       2.75     17850.0  United Kingdom  2010     12   \n",
       " 3 2010-12-01 08:26:00       3.39     17850.0  United Kingdom  2010     12   \n",
       " 4 2010-12-01 08:26:00       3.39     17850.0  United Kingdom  2010     12   \n",
       " \n",
       "    DayOfWeek  \n",
       " 0          2  \n",
       " 1          2  \n",
       " 2          2  \n",
       " 3          2  \n",
       " 4          2  )"
      ]
     },
     "execution_count": 18,
     "metadata": {},
     "output_type": "execute_result"
    }
   ],
   "source": [
    "# Data Cleaning and Transformation\n",
    "\n",
    "# Checking for missing values\n",
    "missing_values = data_df.isnull().sum()\n",
    "\n",
    "# Data type conversion for 'InvoiceDate'\n",
    "# Convert 'InvoiceDate' column to datetime format\n",
    "data_df['InvoiceDate'] = pd.to_datetime(data_df['InvoiceDate'])\n",
    "\n",
    "# Adding features like Year, Month, Day of Week\n",
    "data_df['Year'] = data_df['InvoiceDate'].dt.year\n",
    "data_df['Month'] = data_df['InvoiceDate'].dt.month\n",
    "data_df['DayOfWeek'] = data_df['InvoiceDate'].dt.dayofweek  # Monday=0, Sunday=6\n",
    "\n",
    "# Normalization: Not immediately necessary as we are not performing ML tasks right now\n",
    "\n",
    "# Displaying the updated DataFrame and missing values information\n",
    "updated_head = data_df.head()\n",
    "missing_values, updated_head"
   ]
  },
  {
   "cell_type": "markdown",
   "id": "6635bb44",
   "metadata": {},
   "source": [
    "### Upload data from a pandas DataFrame to Firestore"
   ]
  },
  {
   "cell_type": "code",
   "execution_count": 19,
   "id": "a50dfd84",
   "metadata": {},
   "outputs": [],
   "source": [
    "def upload_data_to_firestore(df, batch_size=500):\n",
    "    batch = db.batch()\n",
    "    count = 0\n",
    "    for index, row in df.iterrows():\n",
    "        doc_ref = db.collection('Sales').document(row['InvoiceNo'])\n",
    "        batch.set(doc_ref, row.to_dict())\n",
    "        count += 1\n",
    "        if count % batch_size == 0:\n",
    "            batch.commit()\n",
    "            batch = db.batch()\n",
    "    if count % batch_size != 0:\n",
    "        batch.commit()"
   ]
  },
  {
   "cell_type": "code",
   "execution_count": 20,
   "id": "2e09d3a7",
   "metadata": {},
   "outputs": [],
   "source": [
    "# Execute the upload\n",
    "upload_data_to_firestore(data_df)"
   ]
  },
  {
   "cell_type": "markdown",
   "id": "50847ccf",
   "metadata": {},
   "source": [
    "Data analysis on Firestore dataset to count sales transactions per month and calculate average transaction value over time."
   ]
  },
  {
   "cell_type": "code",
   "execution_count": 21,
   "id": "27cdc7d5",
   "metadata": {},
   "outputs": [
    {
     "name": "stdout",
     "output_type": "stream",
     "text": [
      "Month\n",
      "1     1476\n",
      "2     1393\n",
      "3     1983\n",
      "4     1744\n",
      "5     2162\n",
      "6     2012\n",
      "7     1927\n",
      "8     1737\n",
      "9     2327\n",
      "10    2637\n",
      "11    3462\n",
      "12    3040\n",
      "dtype: int64\n",
      "Average Transaction Value: 26.366807413128097\n"
     ]
    }
   ],
   "source": [
    "# Count Sales Transactions Per Month\n",
    "# Retrieve document from Firestore collection\n",
    "def fetch_data(collection_name):\n",
    "    documents = db.collection(collection_name).stream()\n",
    "    return [doc.to_dict() for doc in documents]\n",
    "\n",
    "# Fetch sales data\n",
    "sales_data = fetch_data('Sales')\n",
    "\n",
    "# Convert to DataFrame\n",
    "df = pd.DataFrame(sales_data)\n",
    "\n",
    "# Aggregate sales per month in Pandas\n",
    "monthly_sales_count = df.groupby('Month').size()\n",
    "\n",
    "# Print the monthly sales count\n",
    "print(monthly_sales_count)\n",
    "\n",
    "\n",
    "# Average Transaction Value Over Time\n",
    "# Fetch all sales transactions\n",
    "sales_transactions = db.collection('Sales').get()\n",
    "\n",
    "# Calculate the average transaction value\n",
    "total_value = 0\n",
    "count = 0\n",
    "for transaction in sales_transactions:\n",
    "    total_value += transaction.to_dict()['UnitPrice'] * transaction.to_dict()['Quantity']\n",
    "    count += 1\n",
    "average_transaction_value = total_value / count if count > 0 else 0\n",
    "print(f\"Average Transaction Value: {average_transaction_value}\")\n"
   ]
  },
  {
   "cell_type": "code",
   "execution_count": 22,
   "id": "3658bdf4",
   "metadata": {},
   "outputs": [
    {
     "data": {
      "image/png": "[encoded data removed]",
      "text/plain": [
       "<Figure size 720x432 with 1 Axes>"
      ]
     },
     "metadata": {
      "needs_background": "light"
     },
     "output_type": "display_data"
    }
   ],
   "source": [
    "# Fetch sales data\n",
    "sales_transactions = db.collection('Sales').get()\n",
    "\n",
    "# Prepare data for visualization\n",
    "monthly_sales = {}\n",
    "for transaction in sales_transactions:\n",
    "    month = transaction.to_dict()['Month']\n",
    "    monthly_sales[month] = monthly_sales.get(month, 0) + 1\n",
    "\n",
    "# Convert to DataFrame\n",
    "df = pd.DataFrame(list(monthly_sales.items()), columns=['Month', 'Sales'])\n",
    "\n",
    "# Sort by month\n",
    "df = df.sort_values(by='Month')\n",
    "\n",
    "# Visualization\n",
    "plt.figure(figsize=(10, 6))\n",
    "plt.plot(df['Month'], df['Sales'], marker='o')\n",
    "plt.title('Monthly Sales')\n",
    "plt.xlabel('Month')\n",
    "plt.ylabel('Number of Sales')\n",
    "plt.grid(True)\n",
    "plt.show()"
   ]
  },
  {
   "cell_type": "markdown",
   "id": "f82bead5",
   "metadata": {},
   "source": [
    "Each month reveals a distinct pattern in shopping habits and the rhythm of the retail world where the consumer spends. \n",
    "\n",
    "+ **January & February**: Sales start modestly, with a small dip following the initial month, suggesting post-holiday spending fatigue.\n",
    "\n",
    "+ **Spring Recovery**: Sales begin to rise steadily from March through May, indicating a seasonal upturn as consumer activity increases.\n",
    "\n",
    "+ **Summer Fluctuation**: A slight decrease in June, possibly due to a seasonal adjustment period, is followed by a rebound in July and August. \n",
    "\n",
    "+ **Autumn Dip**: September sees a decrease in sales, which may be related to consumers saving in anticipation of holiday spending.\n",
    "\n",
    "+ **Year-End Surge**: A significant rise from October, with a peak in December, likely reflects the impact of holiday sales, including Black Friday and Christmas shopping, suggesting the highest consumer spending period."
   ]
  },
  {
   "cell_type": "markdown",
   "id": "96198b13",
   "metadata": {},
   "source": [
    "On the question \"Analyze patterns in purchasing behaviour\" I faced technical limitations with Firestore's querying skills. The complexity of the queries required for my analysis exceeded the scope of Firestore's use, leading me to performance issues."
   ]
  },
  {
   "cell_type": "code",
   "execution_count": null,
   "id": "4de88b4d",
   "metadata": {},
   "outputs": [],
   "source": []
  }
 ],
 "metadata": {
  "kernelspec": {
   "display_name": "Python 3",
   "language": "python",
   "name": "python3"
  },
  "language_info": {
   "codemirror_mode": {
    "name": "ipython",
    "version": 3
   },
   "file_extension": ".py",
   "mimetype": "text/x-python",
   "name": "python",
   "nbconvert_exporter": "python",
   "pygments_lexer": "ipython3",
   "version": "3.8.8"
  }
 },
 "nbformat": 4,
 "nbformat_minor": 5
}
